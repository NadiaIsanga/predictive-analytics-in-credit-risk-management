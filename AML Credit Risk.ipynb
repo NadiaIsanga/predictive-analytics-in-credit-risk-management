{
 "cells": [
  {
   "cell_type": "code",
   "execution_count": 1,
   "id": "a4d8150a",
   "metadata": {},
   "outputs": [],
   "source": [
    "import pandas as pd\n",
    "\n",
    "# Load the dataset\n",
    "data_url = \"https://drive.google.com/uc?id=1-VAbiNvEFiLa4e9xJ8fq7UeqxMKk63r7\"\n",
    "df = pd.read_csv(data_url)"
   ]
  },
  {
   "cell_type": "code",
   "execution_count": 2,
   "id": "3846af10",
   "metadata": {},
   "outputs": [
    {
     "name": "stdout",
     "output_type": "stream",
     "text": [
      "\n",
      "Shape of the DataFrame: (50000, 1)\n"
     ]
    }
   ],
   "source": [
    "print(\"\\nShape of the DataFrame:\", df.shape)"
   ]
  },
  {
   "cell_type": "code",
   "execution_count": 3,
   "id": "c38fc7e5",
   "metadata": {},
   "outputs": [],
   "source": [
    "# Load the dataset with low_memory=False\n",
    "df = pd.read_csv(data_url, delimiter='\\t', low_memory=False)"
   ]
  },
  {
   "cell_type": "code",
   "execution_count": 4,
   "id": "c0fc2f01",
   "metadata": {},
   "outputs": [
    {
     "name": "stdout",
     "output_type": "stream",
     "text": [
      "\n",
      "Shape of the DataFrame: (50000, 54)\n"
     ]
    }
   ],
   "source": [
    "print(\"\\nShape of the DataFrame:\", df.shape)"
   ]
  },
  {
   "cell_type": "code",
   "execution_count": 5,
   "id": "63526621",
   "metadata": {},
   "outputs": [
    {
     "name": "stdout",
     "output_type": "stream",
     "text": [
      "Index(['ID_CLIENT', 'CLERK_TYPE', 'PAYMENT_DAY', 'APPLICATION_SUBMISSION_TYPE',\n",
      "       'QUANT_ADDITIONAL_CARDS', 'POSTAL_ADDRESS_TYPE', 'SEX',\n",
      "       'MARITAL_STATUS', 'QUANT_DEPENDANTS', 'EDUCATION_LEVEL',\n",
      "       'STATE_OF_BIRTH', 'CITY_OF_BIRTH', 'NATIONALITY', 'RESIDENCIAL_STATE',\n",
      "       'RESIDENCIAL_CITY', 'RESIDENCIAL_BOROUGH', 'FLAG_RESIDENCIAL_PHONE',\n",
      "       'RESIDENCIAL_PHONE_AREA_CODE', 'RESIDENCE_TYPE', 'MONTHS_IN_RESIDENCE',\n",
      "       'FLAG_MOBILE_PHONE', 'FLAG_EMAIL', 'PERSONAL_MONTHLY_INCOME',\n",
      "       'OTHER_INCOMES', 'FLAG_VISA', 'FLAG_MASTERCARD', 'FLAG_DINERS',\n",
      "       'FLAG_AMERICAN_EXPRESS', 'FLAG_OTHER_CARDS', 'QUANT_BANKING_ACCOUNTS',\n",
      "       'QUANT_SPECIAL_BANKING_ACCOUNTS', 'PERSONAL_ASSETS_VALUE', 'QUANT_CARS',\n",
      "       'COMPANY', 'PROFESSIONAL_STATE', 'PROFESSIONAL_CITY',\n",
      "       'PROFESSIONAL_BOROUGH', 'FLAG_PROFESSIONAL_PHONE',\n",
      "       'PROFESSIONAL_PHONE_AREA_CODE', 'MONTHS_IN_THE_JOB', 'PROFESSION_CODE',\n",
      "       'OCCUPATION_TYPE', 'MATE_PROFESSION_CODE', 'EDUCATION_LEVEL.1',\n",
      "       'FLAG_HOME_ADDRESS_DOCUMENT', 'FLAG_RG', 'FLAG_CPF',\n",
      "       'FLAG_INCOME_PROOF', 'PRODUCT', 'FLAG_ACSP_RECORD', 'AGE',\n",
      "       'RESIDENCIAL_ZIP_3', 'PROFESSIONAL_ZIP_3', 'TARGET_LABEL_BAD.1'],\n",
      "      dtype='object')\n"
     ]
    }
   ],
   "source": [
    "print(df.columns)"
   ]
  },
  {
   "cell_type": "code",
   "execution_count": 6,
   "id": "b47b4092",
   "metadata": {},
   "outputs": [
    {
     "name": "stdout",
     "output_type": "stream",
     "text": [
      "   ID_CLIENT CLERK_TYPE  PAYMENT_DAY APPLICATION_SUBMISSION_TYPE  \\\n",
      "1          1          C       -99999                           0   \n",
      "2          2          C       -99999                         Web   \n",
      "3          3          C       -99999                           0   \n",
      "4          4          C       -99999                         Web   \n",
      "5          5          C       -99999                         Web   \n",
      "\n",
      "   QUANT_ADDITIONAL_CARDS  POSTAL_ADDRESS_TYPE SEX  MARITAL_STATUS  \\\n",
      "1                       0                    1   F               6   \n",
      "2                       0                    1   F               2   \n",
      "3                       0                    1   F               2   \n",
      "4                       0                    1   F               2   \n",
      "5                       0                    1   M               2   \n",
      "\n",
      "   QUANT_DEPENDANTS  EDUCATION_LEVEL  ... FLAG_HOME_ADDRESS_DOCUMENT FLAG_RG  \\\n",
      "1                 1              NaN  ...                          0       0   \n",
      "2                 0              NaN  ...                          0       0   \n",
      "3                 0              NaN  ...                          0       0   \n",
      "4                 0              NaN  ...                          0       0   \n",
      "5                 0              NaN  ...                          0       0   \n",
      "\n",
      "   FLAG_CPF FLAG_INCOME_PROOF PRODUCT FLAG_ACSP_RECORD AGE  RESIDENCIAL_ZIP_3  \\\n",
      "1         0                 0       1                N  32                595   \n",
      "2         0                 0       1                N  34                230   \n",
      "3         0                 0       1                N  27                591   \n",
      "4         0                 0       1                N  61                545   \n",
      "5         0                 0       1                N  48                235   \n",
      "\n",
      "   PROFESSIONAL_ZIP_3  TARGET_LABEL_BAD.1  \n",
      "1                 595                   1  \n",
      "2                 230                   1  \n",
      "3                 591                   0  \n",
      "4                 545                   0  \n",
      "5                 235                   1  \n",
      "\n",
      "[5 rows x 54 columns]\n"
     ]
    }
   ],
   "source": [
    "# Display the first few rows of the dataset\n",
    "print(df.head())"
   ]
  },
  {
   "cell_type": "code",
   "execution_count": 7,
   "id": "a2f3b69f",
   "metadata": {},
   "outputs": [
    {
     "name": "stdout",
     "output_type": "stream",
     "text": [
      "<class 'pandas.core.frame.DataFrame'>\n",
      "Int64Index: 50000 entries, 1 to 50000\n",
      "Data columns (total 54 columns):\n",
      " #   Column                          Non-Null Count  Dtype  \n",
      "---  ------                          --------------  -----  \n",
      " 0   ID_CLIENT                       50000 non-null  int64  \n",
      " 1   CLERK_TYPE                      50000 non-null  object \n",
      " 2   PAYMENT_DAY                     50000 non-null  int64  \n",
      " 3   APPLICATION_SUBMISSION_TYPE     50000 non-null  object \n",
      " 4   QUANT_ADDITIONAL_CARDS          50000 non-null  int64  \n",
      " 5   POSTAL_ADDRESS_TYPE             50000 non-null  int64  \n",
      " 6   SEX                             50000 non-null  object \n",
      " 7   MARITAL_STATUS                  50000 non-null  int64  \n",
      " 8   QUANT_DEPENDANTS                50000 non-null  int64  \n",
      " 9   EDUCATION_LEVEL                 826 non-null    float64\n",
      " 10  STATE_OF_BIRTH                  50000 non-null  object \n",
      " 11  CITY_OF_BIRTH                   50000 non-null  object \n",
      " 12  NATIONALITY                     50000 non-null  int64  \n",
      " 13  RESIDENCIAL_STATE               50000 non-null  object \n",
      " 14  RESIDENCIAL_CITY                50000 non-null  object \n",
      " 15  RESIDENCIAL_BOROUGH             50000 non-null  object \n",
      " 16  FLAG_RESIDENCIAL_PHONE          50000 non-null  object \n",
      " 17  RESIDENCIAL_PHONE_AREA_CODE     41788 non-null  float64\n",
      " 18  RESIDENCE_TYPE                  48651 non-null  float64\n",
      " 19  MONTHS_IN_RESIDENCE             46223 non-null  float64\n",
      " 20  FLAG_MOBILE_PHONE               50000 non-null  object \n",
      " 21  FLAG_EMAIL                      50000 non-null  int64  \n",
      " 22  PERSONAL_MONTHLY_INCOME         50000 non-null  float64\n",
      " 23  OTHER_INCOMES                   50000 non-null  float64\n",
      " 24  FLAG_VISA                       50000 non-null  int64  \n",
      " 25  FLAG_MASTERCARD                 50000 non-null  int64  \n",
      " 26  FLAG_DINERS                     50000 non-null  int64  \n",
      " 27  FLAG_AMERICAN_EXPRESS           50000 non-null  int64  \n",
      " 28  FLAG_OTHER_CARDS                50000 non-null  int64  \n",
      " 29  QUANT_BANKING_ACCOUNTS          50000 non-null  int64  \n",
      " 30  QUANT_SPECIAL_BANKING_ACCOUNTS  50000 non-null  int64  \n",
      " 31  PERSONAL_ASSETS_VALUE           50000 non-null  float64\n",
      " 32  QUANT_CARS                      50000 non-null  int64  \n",
      " 33  COMPANY                         50000 non-null  object \n",
      " 34  PROFESSIONAL_STATE              50000 non-null  object \n",
      " 35  PROFESSIONAL_CITY               16217 non-null  object \n",
      " 36  PROFESSIONAL_BOROUGH            16217 non-null  object \n",
      " 37  FLAG_PROFESSIONAL_PHONE         50000 non-null  object \n",
      " 38  PROFESSIONAL_PHONE_AREA_CODE    13468 non-null  float64\n",
      " 39  MONTHS_IN_THE_JOB               50000 non-null  int64  \n",
      " 40  PROFESSION_CODE                 42244 non-null  float64\n",
      " 41  OCCUPATION_TYPE                 42687 non-null  float64\n",
      " 42  MATE_PROFESSION_CODE            21116 non-null  float64\n",
      " 43  EDUCATION_LEVEL.1               17662 non-null  float64\n",
      " 44  FLAG_HOME_ADDRESS_DOCUMENT      50000 non-null  int64  \n",
      " 45  FLAG_RG                         50000 non-null  int64  \n",
      " 46  FLAG_CPF                        50000 non-null  int64  \n",
      " 47  FLAG_INCOME_PROOF               50000 non-null  int64  \n",
      " 48  PRODUCT                         50000 non-null  int64  \n",
      " 49  FLAG_ACSP_RECORD                50000 non-null  object \n",
      " 50  AGE                             50000 non-null  int64  \n",
      " 51  RESIDENCIAL_ZIP_3               50000 non-null  object \n",
      " 52  PROFESSIONAL_ZIP_3              50000 non-null  object \n",
      " 53  TARGET_LABEL_BAD.1              50000 non-null  int64  \n",
      "dtypes: float64(12), int64(24), object(18)\n",
      "memory usage: 21.0+ MB\n",
      "None\n"
     ]
    }
   ],
   "source": [
    "# Display basic information about the dataset\n",
    "print(df.info())"
   ]
  },
  {
   "cell_type": "code",
   "execution_count": 8,
   "id": "dfef0a21",
   "metadata": {},
   "outputs": [
    {
     "name": "stdout",
     "output_type": "stream",
     "text": [
      "          ID_CLIENT   PAYMENT_DAY  QUANT_ADDITIONAL_CARDS  \\\n",
      "count  50000.000000  50000.000000                 50000.0   \n",
      "mean   25000.500000   -167.151640                     0.0   \n",
      "std    14433.901067   4239.371262                     0.0   \n",
      "min        1.000000 -99999.000000                     0.0   \n",
      "25%    12500.750000     10.000000                     0.0   \n",
      "50%    25000.500000     10.000000                     0.0   \n",
      "75%    37500.250000     15.000000                     0.0   \n",
      "max    50000.000000     25.000000                     0.0   \n",
      "\n",
      "       POSTAL_ADDRESS_TYPE  MARITAL_STATUS  QUANT_DEPENDANTS  EDUCATION_LEVEL  \\\n",
      "count         50000.000000     50000.00000      50000.000000       826.000000   \n",
      "mean              1.006540         2.14840          0.650520         1.721550   \n",
      "std               0.080606         1.32285          1.193655         0.448508   \n",
      "min               1.000000         0.00000          0.000000         1.000000   \n",
      "25%               1.000000         1.00000          0.000000         1.000000   \n",
      "50%               1.000000         2.00000          0.000000         2.000000   \n",
      "75%               1.000000         2.00000          1.000000         2.000000   \n",
      "max               2.000000         7.00000         53.000000         2.000000   \n",
      "\n",
      "        NATIONALITY  RESIDENCIAL_PHONE_AREA_CODE  RESIDENCE_TYPE  ...  \\\n",
      "count  50000.000000                 41788.000000    48651.000000  ...   \n",
      "mean       0.961600                    64.544223        1.252225  ...   \n",
      "std        0.202105                    38.511833        0.867833  ...   \n",
      "min        0.000000                     1.000000        0.000000  ...   \n",
      "25%        1.000000                    29.000000        1.000000  ...   \n",
      "50%        1.000000                    68.000000        1.000000  ...   \n",
      "75%        1.000000                   100.000000        1.000000  ...   \n",
      "max        2.000000                   126.000000        5.000000  ...   \n",
      "\n",
      "       OCCUPATION_TYPE  MATE_PROFESSION_CODE  EDUCATION_LEVEL.1  \\\n",
      "count     42687.000000          21116.000000       17662.000000   \n",
      "mean          2.484316              3.797926           0.296003   \n",
      "std           1.532261              5.212168           0.955688   \n",
      "min           0.000000              0.000000           0.000000   \n",
      "25%           1.000000              0.000000           0.000000   \n",
      "50%           2.000000              0.000000           0.000000   \n",
      "75%           4.000000             11.000000           0.000000   \n",
      "max           5.000000             17.000000           5.000000   \n",
      "\n",
      "       FLAG_HOME_ADDRESS_DOCUMENT  FLAG_RG  FLAG_CPF  FLAG_INCOME_PROOF  \\\n",
      "count                     50000.0  50000.0   50000.0            50000.0   \n",
      "mean                          0.0      0.0       0.0                0.0   \n",
      "std                           0.0      0.0       0.0                0.0   \n",
      "min                           0.0      0.0       0.0                0.0   \n",
      "25%                           0.0      0.0       0.0                0.0   \n",
      "50%                           0.0      0.0       0.0                0.0   \n",
      "75%                           0.0      0.0       0.0                0.0   \n",
      "max                           0.0      0.0       0.0                0.0   \n",
      "\n",
      "            PRODUCT          AGE  TARGET_LABEL_BAD.1  \n",
      "count  50000.000000  50000.00000        50000.000000  \n",
      "mean       1.275700     43.24852            0.260820  \n",
      "std        0.988286     14.98905            0.439086  \n",
      "min        1.000000      6.00000            0.000000  \n",
      "25%        1.000000     31.00000            0.000000  \n",
      "50%        1.000000     41.00000            0.000000  \n",
      "75%        1.000000     53.00000            1.000000  \n",
      "max        7.000000    106.00000            1.000000  \n",
      "\n",
      "[8 rows x 36 columns]\n"
     ]
    }
   ],
   "source": [
    "# Summary statistics\n",
    "print(df.describe())"
   ]
  },
  {
   "cell_type": "code",
   "execution_count": 9,
   "id": "3d277d30",
   "metadata": {},
   "outputs": [
    {
     "name": "stdout",
     "output_type": "stream",
     "text": [
      "Columns with missing values: ['EDUCATION_LEVEL', 'RESIDENCIAL_PHONE_AREA_CODE', 'RESIDENCE_TYPE', 'MONTHS_IN_RESIDENCE', 'PROFESSIONAL_CITY', 'PROFESSIONAL_BOROUGH', 'PROFESSIONAL_PHONE_AREA_CODE', 'PROFESSION_CODE', 'OCCUPATION_TYPE', 'MATE_PROFESSION_CODE', 'EDUCATION_LEVEL.1']\n"
     ]
    }
   ],
   "source": [
    "# 1. Handling Missing Values\n",
    "# Identify columns with missing values\n",
    "columns_with_missing_values = df.columns[df.isnull().any()].tolist()\n",
    "print(\"Columns with missing values:\", columns_with_missing_values)"
   ]
  },
  {
   "cell_type": "code",
   "execution_count": 10,
   "id": "0c7d7206",
   "metadata": {},
   "outputs": [
    {
     "name": "stdout",
     "output_type": "stream",
     "text": [
      "\n",
      "Percentage of missing values in each column:\n",
      "EDUCATION_LEVEL                 98.348\n",
      "RESIDENCIAL_PHONE_AREA_CODE     16.424\n",
      "RESIDENCE_TYPE                   2.698\n",
      "MONTHS_IN_RESIDENCE              7.554\n",
      "PROFESSIONAL_CITY               67.566\n",
      "PROFESSIONAL_BOROUGH            67.566\n",
      "PROFESSIONAL_PHONE_AREA_CODE    73.064\n",
      "PROFESSION_CODE                 15.512\n",
      "OCCUPATION_TYPE                 14.626\n",
      "MATE_PROFESSION_CODE            57.768\n",
      "EDUCATION_LEVEL.1               64.676\n",
      "dtype: float64\n"
     ]
    }
   ],
   "source": [
    "# Check the percentage of missing values in each column\n",
    "missing_value_percentages = df[columns_with_missing_values].isnull().mean() * 100\n",
    "print(\"\\nPercentage of missing values in each column:\")\n",
    "print(missing_value_percentages)\n"
   ]
  },
  {
   "cell_type": "code",
   "execution_count": 11,
   "id": "6b302ddf",
   "metadata": {},
   "outputs": [],
   "source": [
    "# Impute missing values in numerical columns with median\n",
    "numerical_columns_to_impute = ['RESIDENCIAL_PHONE_AREA_CODE', 'MONTHS_IN_RESIDENCE']\n",
    "for column in numerical_columns_to_impute:\n",
    "    median_value = df[column].median()\n",
    "    df[column] = df[column].fillna(median_value)"
   ]
  },
  {
   "cell_type": "code",
   "execution_count": 12,
   "id": "e5221514",
   "metadata": {},
   "outputs": [],
   "source": [
    "# Impute missing values in categorical columns with mode\n",
    "categorical_columns_to_impute = ['RESIDENCE_TYPE', 'PROFESSION_CODE', 'OCCUPATION_TYPE']\n",
    "for column in categorical_columns_to_impute:\n",
    "    mode_value = df[column].mode()[0]\n",
    "    df[column] = df[column].fillna(mode_value)"
   ]
  },
  {
   "cell_type": "code",
   "execution_count": 13,
   "id": "7fe8dc60",
   "metadata": {},
   "outputs": [],
   "source": [
    "# Drop columns with high percentage of missing values\n",
    "columns_to_drop = ['EDUCATION_LEVEL', 'PROFESSIONAL_CITY', 'PROFESSIONAL_BOROUGH', \n",
    "                   'PROFESSIONAL_PHONE_AREA_CODE', 'MATE_PROFESSION_CODE', 'EDUCATION_LEVEL.1']\n",
    "df.drop(columns=columns_to_drop, inplace=True, axis=1)"
   ]
  },
  {
   "cell_type": "code",
   "execution_count": 14,
   "id": "690f7455",
   "metadata": {},
   "outputs": [
    {
     "name": "stdout",
     "output_type": "stream",
     "text": [
      "\n",
      "Missing values after imputation and dropping columns:\n",
      "ID_CLIENT                         0\n",
      "CLERK_TYPE                        0\n",
      "PAYMENT_DAY                       0\n",
      "APPLICATION_SUBMISSION_TYPE       0\n",
      "QUANT_ADDITIONAL_CARDS            0\n",
      "POSTAL_ADDRESS_TYPE               0\n",
      "SEX                               0\n",
      "MARITAL_STATUS                    0\n",
      "QUANT_DEPENDANTS                  0\n",
      "STATE_OF_BIRTH                    0\n",
      "CITY_OF_BIRTH                     0\n",
      "NATIONALITY                       0\n",
      "RESIDENCIAL_STATE                 0\n",
      "RESIDENCIAL_CITY                  0\n",
      "RESIDENCIAL_BOROUGH               0\n",
      "FLAG_RESIDENCIAL_PHONE            0\n",
      "RESIDENCIAL_PHONE_AREA_CODE       0\n",
      "RESIDENCE_TYPE                    0\n",
      "MONTHS_IN_RESIDENCE               0\n",
      "FLAG_MOBILE_PHONE                 0\n",
      "FLAG_EMAIL                        0\n",
      "PERSONAL_MONTHLY_INCOME           0\n",
      "OTHER_INCOMES                     0\n",
      "FLAG_VISA                         0\n",
      "FLAG_MASTERCARD                   0\n",
      "FLAG_DINERS                       0\n",
      "FLAG_AMERICAN_EXPRESS             0\n",
      "FLAG_OTHER_CARDS                  0\n",
      "QUANT_BANKING_ACCOUNTS            0\n",
      "QUANT_SPECIAL_BANKING_ACCOUNTS    0\n",
      "PERSONAL_ASSETS_VALUE             0\n",
      "QUANT_CARS                        0\n",
      "COMPANY                           0\n",
      "PROFESSIONAL_STATE                0\n",
      "FLAG_PROFESSIONAL_PHONE           0\n",
      "MONTHS_IN_THE_JOB                 0\n",
      "PROFESSION_CODE                   0\n",
      "OCCUPATION_TYPE                   0\n",
      "FLAG_HOME_ADDRESS_DOCUMENT        0\n",
      "FLAG_RG                           0\n",
      "FLAG_CPF                          0\n",
      "FLAG_INCOME_PROOF                 0\n",
      "PRODUCT                           0\n",
      "FLAG_ACSP_RECORD                  0\n",
      "AGE                               0\n",
      "RESIDENCIAL_ZIP_3                 0\n",
      "PROFESSIONAL_ZIP_3                0\n",
      "TARGET_LABEL_BAD.1                0\n",
      "dtype: int64\n"
     ]
    }
   ],
   "source": [
    "# Verify if missing values have been handled\n",
    "print(\"\\nMissing values after imputation and dropping columns:\")\n",
    "print(df.isnull().sum())"
   ]
  },
  {
   "cell_type": "code",
   "execution_count": 15,
   "id": "86eafbd2",
   "metadata": {},
   "outputs": [
    {
     "name": "stdout",
     "output_type": "stream",
     "text": [
      "Requirement already satisfied: category_encoders in /opt/conda/lib/python3.9/site-packages (2.6.3)\n",
      "Requirement already satisfied: patsy>=0.5.1 in /opt/conda/lib/python3.9/site-packages (from category_encoders) (0.5.3)\n",
      "Requirement already satisfied: scipy>=1.0.0 in /opt/conda/lib/python3.9/site-packages (from category_encoders) (1.11.2)\n",
      "Requirement already satisfied: scikit-learn>=0.20.0 in /opt/conda/lib/python3.9/site-packages (from category_encoders) (1.3.0)\n",
      "Requirement already satisfied: numpy>=1.14.0 in /opt/conda/lib/python3.9/site-packages (from category_encoders) (1.23.5)\n",
      "Requirement already satisfied: statsmodels>=0.9.0 in /opt/conda/lib/python3.9/site-packages (from category_encoders) (0.14.0)\n",
      "Requirement already satisfied: pandas>=1.0.5 in /opt/conda/lib/python3.9/site-packages (from category_encoders) (2.1.0)\n",
      "Requirement already satisfied: tzdata>=2022.1 in /opt/conda/lib/python3.9/site-packages (from pandas>=1.0.5->category_encoders) (2023.3)\n",
      "Requirement already satisfied: pytz>=2020.1 in /opt/conda/lib/python3.9/site-packages (from pandas>=1.0.5->category_encoders) (2022.4)\n",
      "Requirement already satisfied: python-dateutil>=2.8.2 in /opt/conda/lib/python3.9/site-packages (from pandas>=1.0.5->category_encoders) (2.8.2)\n",
      "Requirement already satisfied: six in /opt/conda/lib/python3.9/site-packages (from patsy>=0.5.1->category_encoders) (1.16.0)\n",
      "Requirement already satisfied: joblib>=1.1.1 in /opt/conda/lib/python3.9/site-packages (from scikit-learn>=0.20.0->category_encoders) (1.3.2)\n",
      "Requirement already satisfied: threadpoolctl>=2.0.0 in /opt/conda/lib/python3.9/site-packages (from scikit-learn>=0.20.0->category_encoders) (3.2.0)\n",
      "Requirement already satisfied: packaging>=21.3 in /opt/conda/lib/python3.9/site-packages (from statsmodels>=0.9.0->category_encoders) (23.1)\n"
     ]
    }
   ],
   "source": [
    "!pip install category_encoders"
   ]
  },
  {
   "cell_type": "code",
   "execution_count": 16,
   "id": "69b59b1f",
   "metadata": {},
   "outputs": [],
   "source": [
    "import pandas as pd\n",
    "from sklearn.model_selection import train_test_split\n",
    "from category_encoders import TargetEncoder, OneHotEncoder\n",
    "\n",
    "# Assuming 'df' is your DataFrame and 'TARGET_LABEL_BAD.1' is the target\n",
    "X = df.drop('TARGET_LABEL_BAD.1', axis=1)\n",
    "y = df['TARGET_LABEL_BAD.1']\n",
    "\n",
    "# Split your data into training and testing sets\n",
    "X_train, X_test, y_train, y_test = train_test_split(X, y, test_size=0.3, random_state=42)\n"
   ]
  },
  {
   "cell_type": "code",
   "execution_count": 17,
   "id": "075934af",
   "metadata": {},
   "outputs": [
    {
     "name": "stdout",
     "output_type": "stream",
     "text": [
      "Initial columns in X_train: Index(['ID_CLIENT', 'CLERK_TYPE', 'PAYMENT_DAY', 'APPLICATION_SUBMISSION_TYPE',\n",
      "       'QUANT_ADDITIONAL_CARDS', 'POSTAL_ADDRESS_TYPE', 'SEX',\n",
      "       'MARITAL_STATUS', 'QUANT_DEPENDANTS', 'STATE_OF_BIRTH', 'CITY_OF_BIRTH',\n",
      "       'NATIONALITY', 'RESIDENCIAL_STATE', 'RESIDENCIAL_CITY',\n",
      "       'RESIDENCIAL_BOROUGH', 'FLAG_RESIDENCIAL_PHONE',\n",
      "       'RESIDENCIAL_PHONE_AREA_CODE', 'RESIDENCE_TYPE', 'MONTHS_IN_RESIDENCE',\n",
      "       'FLAG_MOBILE_PHONE', 'FLAG_EMAIL', 'PERSONAL_MONTHLY_INCOME',\n",
      "       'OTHER_INCOMES', 'FLAG_VISA', 'FLAG_MASTERCARD', 'FLAG_DINERS',\n",
      "       'FLAG_AMERICAN_EXPRESS', 'FLAG_OTHER_CARDS', 'QUANT_BANKING_ACCOUNTS',\n",
      "       'QUANT_SPECIAL_BANKING_ACCOUNTS', 'PERSONAL_ASSETS_VALUE', 'QUANT_CARS',\n",
      "       'COMPANY', 'PROFESSIONAL_STATE', 'FLAG_PROFESSIONAL_PHONE',\n",
      "       'MONTHS_IN_THE_JOB', 'PROFESSION_CODE', 'OCCUPATION_TYPE',\n",
      "       'FLAG_HOME_ADDRESS_DOCUMENT', 'FLAG_RG', 'FLAG_CPF',\n",
      "       'FLAG_INCOME_PROOF', 'PRODUCT', 'FLAG_ACSP_RECORD', 'AGE',\n",
      "       'RESIDENCIAL_ZIP_3', 'PROFESSIONAL_ZIP_3'],\n",
      "      dtype='object')\n"
     ]
    }
   ],
   "source": [
    "# Assuming 'df' is your original DataFrame and includes all columns including 'MARITAL_STATUS'\n",
    "X = df.drop('TARGET_LABEL_BAD.1', axis=1)  # Keep all other columns\n",
    "y = df['TARGET_LABEL_BAD.1']\n",
    "\n",
    "X_train, X_test, y_train, y_test = train_test_split(X, y, test_size=0.3, random_state=42)\n",
    "print(\"Initial columns in X_train:\", X_train.columns)  # Check which columns are available\n"
   ]
  },
  {
   "cell_type": "code",
   "execution_count": 18,
   "id": "d90b5a5a",
   "metadata": {
    "scrolled": true
   },
   "outputs": [
    {
     "name": "stdout",
     "output_type": "stream",
     "text": [
      "Columns in X_train: Index(['ID_CLIENT', 'CLERK_TYPE', 'PAYMENT_DAY', 'APPLICATION_SUBMISSION_TYPE',\n",
      "       'QUANT_ADDITIONAL_CARDS', 'POSTAL_ADDRESS_TYPE', 'SEX',\n",
      "       'MARITAL_STATUS', 'QUANT_DEPENDANTS', 'STATE_OF_BIRTH', 'CITY_OF_BIRTH',\n",
      "       'NATIONALITY', 'RESIDENCIAL_STATE', 'RESIDENCIAL_CITY',\n",
      "       'RESIDENCIAL_BOROUGH', 'FLAG_RESIDENCIAL_PHONE',\n",
      "       'RESIDENCIAL_PHONE_AREA_CODE', 'RESIDENCE_TYPE', 'MONTHS_IN_RESIDENCE',\n",
      "       'FLAG_MOBILE_PHONE', 'FLAG_EMAIL', 'PERSONAL_MONTHLY_INCOME',\n",
      "       'OTHER_INCOMES', 'FLAG_VISA', 'FLAG_MASTERCARD', 'FLAG_DINERS',\n",
      "       'FLAG_AMERICAN_EXPRESS', 'FLAG_OTHER_CARDS', 'QUANT_BANKING_ACCOUNTS',\n",
      "       'QUANT_SPECIAL_BANKING_ACCOUNTS', 'PERSONAL_ASSETS_VALUE', 'QUANT_CARS',\n",
      "       'COMPANY', 'PROFESSIONAL_STATE', 'FLAG_PROFESSIONAL_PHONE',\n",
      "       'MONTHS_IN_THE_JOB', 'PROFESSION_CODE', 'OCCUPATION_TYPE',\n",
      "       'FLAG_HOME_ADDRESS_DOCUMENT', 'FLAG_RG', 'FLAG_CPF',\n",
      "       'FLAG_INCOME_PROOF', 'PRODUCT', 'FLAG_ACSP_RECORD', 'AGE',\n",
      "       'RESIDENCIAL_ZIP_3', 'PROFESSIONAL_ZIP_3'],\n",
      "      dtype='object')\n",
      "Columns in X_test: Index(['ID_CLIENT', 'CLERK_TYPE', 'PAYMENT_DAY', 'APPLICATION_SUBMISSION_TYPE',\n",
      "       'QUANT_ADDITIONAL_CARDS', 'POSTAL_ADDRESS_TYPE', 'SEX',\n",
      "       'MARITAL_STATUS', 'QUANT_DEPENDANTS', 'STATE_OF_BIRTH', 'CITY_OF_BIRTH',\n",
      "       'NATIONALITY', 'RESIDENCIAL_STATE', 'RESIDENCIAL_CITY',\n",
      "       'RESIDENCIAL_BOROUGH', 'FLAG_RESIDENCIAL_PHONE',\n",
      "       'RESIDENCIAL_PHONE_AREA_CODE', 'RESIDENCE_TYPE', 'MONTHS_IN_RESIDENCE',\n",
      "       'FLAG_MOBILE_PHONE', 'FLAG_EMAIL', 'PERSONAL_MONTHLY_INCOME',\n",
      "       'OTHER_INCOMES', 'FLAG_VISA', 'FLAG_MASTERCARD', 'FLAG_DINERS',\n",
      "       'FLAG_AMERICAN_EXPRESS', 'FLAG_OTHER_CARDS', 'QUANT_BANKING_ACCOUNTS',\n",
      "       'QUANT_SPECIAL_BANKING_ACCOUNTS', 'PERSONAL_ASSETS_VALUE', 'QUANT_CARS',\n",
      "       'COMPANY', 'PROFESSIONAL_STATE', 'FLAG_PROFESSIONAL_PHONE',\n",
      "       'MONTHS_IN_THE_JOB', 'PROFESSION_CODE', 'OCCUPATION_TYPE',\n",
      "       'FLAG_HOME_ADDRESS_DOCUMENT', 'FLAG_RG', 'FLAG_CPF',\n",
      "       'FLAG_INCOME_PROOF', 'PRODUCT', 'FLAG_ACSP_RECORD', 'AGE',\n",
      "       'RESIDENCIAL_ZIP_3', 'PROFESSIONAL_ZIP_3'],\n",
      "      dtype='object')\n"
     ]
    }
   ],
   "source": [
    "print(\"Columns in X_train:\", X_train.columns)\n",
    "print(\"Columns in X_test:\", X_test.columns)\n"
   ]
  },
  {
   "cell_type": "code",
   "execution_count": 19,
   "id": "9cd85802",
   "metadata": {},
   "outputs": [
    {
     "name": "stderr",
     "output_type": "stream",
     "text": [
      "/opt/conda/lib/python3.9/site-packages/sklearn/preprocessing/_encoders.py:868: FutureWarning: `sparse` was renamed to `sparse_output` in version 1.2 and will be removed in 1.4. `sparse_output` is ignored unless you leave `sparse` to its default value.\n",
      "  warnings.warn(\n"
     ]
    }
   ],
   "source": [
    "from sklearn.preprocessing import OneHotEncoder\n",
    "\n",
    "# Initialize the OneHotEncoder\n",
    "encoder = OneHotEncoder(sparse=False, drop='first')  # drop='first' to avoid multicollinearity\n",
    "encoded_columns = ['SEX', 'MARITAL_STATUS']\n",
    "\n",
    "# Fit and transform the training data\n",
    "encoder.fit(X_train[encoded_columns])\n",
    "encoded_data = encoder.transform(X_train[encoded_columns])\n",
    "encoded_features = encoder.get_feature_names_out(encoded_columns)  # Updated method call here\n",
    "X_train_encoded = pd.DataFrame(encoded_data, columns=encoded_features, index=X_train.index)\n",
    "\n",
    "# Transform the test data using the same encoder\n",
    "encoded_data_test = encoder.transform(X_test[encoded_columns])\n",
    "X_test_encoded = pd.DataFrame(encoded_data_test, columns=encoded_features, index=X_test.index)\n",
    "\n",
    "# Concatenate encoded columns back to the original DataFrame\n",
    "X_train = pd.concat([X_train.drop(encoded_columns, axis=1), X_train_encoded], axis=1)\n",
    "X_test = pd.concat([X_test.drop(encoded_columns, axis=1), X_test_encoded], axis=1)\n",
    "\n"
   ]
  },
  {
   "cell_type": "code",
   "execution_count": 20,
   "id": "033b7ff3",
   "metadata": {},
   "outputs": [],
   "source": [
    "from category_encoders import TargetEncoder\n",
    "\n",
    "# Initialize the TargetEncoder\n",
    "target_encoder = TargetEncoder()\n",
    "\n",
    "# Apply target encoding to 'RESIDENCIAL_CITY'\n",
    "X_train['RESIDENCIAL_CITY'] = target_encoder.fit_transform(X_train['RESIDENCIAL_CITY'], y_train)\n",
    "X_test['RESIDENCIAL_CITY'] = target_encoder.transform(X_test['RESIDENCIAL_CITY'])\n"
   ]
  },
  {
   "cell_type": "code",
   "execution_count": 21,
   "id": "78b24b02",
   "metadata": {},
   "outputs": [],
   "source": [
    "# Calculate frequencies from the training set\n",
    "frequency = X_train['PROFESSIONAL_ZIP_3'].value_counts(normalize=True)\n",
    "\n",
    "# Map frequencies onto both training and test sets\n",
    "X_train['PROFESSIONAL_ZIP_3'] = X_train['PROFESSIONAL_ZIP_3'].map(frequency)\n",
    "X_test['PROFESSIONAL_ZIP_3'] = X_test['PROFESSIONAL_ZIP_3'].map(frequency)\n"
   ]
  },
  {
   "cell_type": "code",
   "execution_count": 22,
   "id": "a63e0b02",
   "metadata": {},
   "outputs": [
    {
     "name": "stdout",
     "output_type": "stream",
     "text": [
      "Columns in X_train post-encoding: Index(['ID_CLIENT', 'CLERK_TYPE', 'PAYMENT_DAY', 'APPLICATION_SUBMISSION_TYPE',\n",
      "       'QUANT_ADDITIONAL_CARDS', 'POSTAL_ADDRESS_TYPE', 'QUANT_DEPENDANTS',\n",
      "       'STATE_OF_BIRTH', 'CITY_OF_BIRTH', 'NATIONALITY', 'RESIDENCIAL_STATE',\n",
      "       'RESIDENCIAL_CITY', 'RESIDENCIAL_BOROUGH', 'FLAG_RESIDENCIAL_PHONE',\n",
      "       'RESIDENCIAL_PHONE_AREA_CODE', 'RESIDENCE_TYPE', 'MONTHS_IN_RESIDENCE',\n",
      "       'FLAG_MOBILE_PHONE', 'FLAG_EMAIL', 'PERSONAL_MONTHLY_INCOME',\n",
      "       'OTHER_INCOMES', 'FLAG_VISA', 'FLAG_MASTERCARD', 'FLAG_DINERS',\n",
      "       'FLAG_AMERICAN_EXPRESS', 'FLAG_OTHER_CARDS', 'QUANT_BANKING_ACCOUNTS',\n",
      "       'QUANT_SPECIAL_BANKING_ACCOUNTS', 'PERSONAL_ASSETS_VALUE', 'QUANT_CARS',\n",
      "       'COMPANY', 'PROFESSIONAL_STATE', 'FLAG_PROFESSIONAL_PHONE',\n",
      "       'MONTHS_IN_THE_JOB', 'PROFESSION_CODE', 'OCCUPATION_TYPE',\n",
      "       'FLAG_HOME_ADDRESS_DOCUMENT', 'FLAG_RG', 'FLAG_CPF',\n",
      "       'FLAG_INCOME_PROOF', 'PRODUCT', 'FLAG_ACSP_RECORD', 'AGE',\n",
      "       'RESIDENCIAL_ZIP_3', 'PROFESSIONAL_ZIP_3', 'SEX_F', 'SEX_M', 'SEX_N',\n",
      "       'MARITAL_STATUS_1', 'MARITAL_STATUS_2', 'MARITAL_STATUS_3',\n",
      "       'MARITAL_STATUS_4', 'MARITAL_STATUS_5', 'MARITAL_STATUS_6',\n",
      "       'MARITAL_STATUS_7'],\n",
      "      dtype='object')\n",
      "Columns in X_test post-encoding: Index(['ID_CLIENT', 'CLERK_TYPE', 'PAYMENT_DAY', 'APPLICATION_SUBMISSION_TYPE',\n",
      "       'QUANT_ADDITIONAL_CARDS', 'POSTAL_ADDRESS_TYPE', 'QUANT_DEPENDANTS',\n",
      "       'STATE_OF_BIRTH', 'CITY_OF_BIRTH', 'NATIONALITY', 'RESIDENCIAL_STATE',\n",
      "       'RESIDENCIAL_CITY', 'RESIDENCIAL_BOROUGH', 'FLAG_RESIDENCIAL_PHONE',\n",
      "       'RESIDENCIAL_PHONE_AREA_CODE', 'RESIDENCE_TYPE', 'MONTHS_IN_RESIDENCE',\n",
      "       'FLAG_MOBILE_PHONE', 'FLAG_EMAIL', 'PERSONAL_MONTHLY_INCOME',\n",
      "       'OTHER_INCOMES', 'FLAG_VISA', 'FLAG_MASTERCARD', 'FLAG_DINERS',\n",
      "       'FLAG_AMERICAN_EXPRESS', 'FLAG_OTHER_CARDS', 'QUANT_BANKING_ACCOUNTS',\n",
      "       'QUANT_SPECIAL_BANKING_ACCOUNTS', 'PERSONAL_ASSETS_VALUE', 'QUANT_CARS',\n",
      "       'COMPANY', 'PROFESSIONAL_STATE', 'FLAG_PROFESSIONAL_PHONE',\n",
      "       'MONTHS_IN_THE_JOB', 'PROFESSION_CODE', 'OCCUPATION_TYPE',\n",
      "       'FLAG_HOME_ADDRESS_DOCUMENT', 'FLAG_RG', 'FLAG_CPF',\n",
      "       'FLAG_INCOME_PROOF', 'PRODUCT', 'FLAG_ACSP_RECORD', 'AGE',\n",
      "       'RESIDENCIAL_ZIP_3', 'PROFESSIONAL_ZIP_3', 'SEX_F', 'SEX_M', 'SEX_N',\n",
      "       'MARITAL_STATUS_1', 'MARITAL_STATUS_2', 'MARITAL_STATUS_3',\n",
      "       'MARITAL_STATUS_4', 'MARITAL_STATUS_5', 'MARITAL_STATUS_6',\n",
      "       'MARITAL_STATUS_7'],\n",
      "      dtype='object')\n"
     ]
    }
   ],
   "source": [
    "# Verify the columns in the transformed datasets\n",
    "print(\"Columns in X_train post-encoding:\", X_train.columns)\n",
    "print(\"Columns in X_test post-encoding:\", X_test.columns)\n"
   ]
  },
  {
   "cell_type": "code",
   "execution_count": 23,
   "id": "1df71e82",
   "metadata": {},
   "outputs": [
    {
     "name": "stdout",
     "output_type": "stream",
     "text": [
      "Shape of X_train: (35000, 55)\n",
      "Shape of X_test: (15000, 55)\n"
     ]
    }
   ],
   "source": [
    "print(\"Shape of X_train:\", X_train.shape)\n",
    "print(\"Shape of X_test:\", X_test.shape)\n"
   ]
  },
  {
   "cell_type": "code",
   "execution_count": 24,
   "id": "6fc7390e",
   "metadata": {},
   "outputs": [
    {
     "name": "stdout",
     "output_type": "stream",
     "text": [
      "Missing values in X_train:\n",
      "Series([], dtype: int64)\n",
      "Missing values in X_test:\n",
      "PROFESSIONAL_ZIP_3    27\n",
      "dtype: int64\n"
     ]
    }
   ],
   "source": [
    "# Check for any missing values in the training set\n",
    "missing_values_train = X_train.isnull().sum()\n",
    "print(\"Missing values in X_train:\")\n",
    "print(missing_values_train[missing_values_train > 0])  # Display columns with missing values only\n",
    "\n",
    "# Check for any missing values in the test set\n",
    "missing_values_test = X_test.isnull().sum()\n",
    "print(\"Missing values in X_test:\")\n",
    "print(missing_values_test[missing_values_test > 0])  # Display columns with missing values only\n"
   ]
  },
  {
   "cell_type": "code",
   "execution_count": 25,
   "id": "02b0996b",
   "metadata": {},
   "outputs": [
    {
     "name": "stdout",
     "output_type": "stream",
     "text": [
      "Data types in X_train:\n",
      "ID_CLIENT                           int64\n",
      "CLERK_TYPE                         object\n",
      "PAYMENT_DAY                         int64\n",
      "APPLICATION_SUBMISSION_TYPE        object\n",
      "QUANT_ADDITIONAL_CARDS              int64\n",
      "POSTAL_ADDRESS_TYPE                 int64\n",
      "QUANT_DEPENDANTS                    int64\n",
      "STATE_OF_BIRTH                     object\n",
      "CITY_OF_BIRTH                      object\n",
      "NATIONALITY                         int64\n",
      "RESIDENCIAL_STATE                  object\n",
      "RESIDENCIAL_CITY                  float64\n",
      "RESIDENCIAL_BOROUGH                object\n",
      "FLAG_RESIDENCIAL_PHONE             object\n",
      "RESIDENCIAL_PHONE_AREA_CODE       float64\n",
      "RESIDENCE_TYPE                    float64\n",
      "MONTHS_IN_RESIDENCE               float64\n",
      "FLAG_MOBILE_PHONE                  object\n",
      "FLAG_EMAIL                          int64\n",
      "PERSONAL_MONTHLY_INCOME           float64\n",
      "OTHER_INCOMES                     float64\n",
      "FLAG_VISA                           int64\n",
      "FLAG_MASTERCARD                     int64\n",
      "FLAG_DINERS                         int64\n",
      "FLAG_AMERICAN_EXPRESS               int64\n",
      "FLAG_OTHER_CARDS                    int64\n",
      "QUANT_BANKING_ACCOUNTS              int64\n",
      "QUANT_SPECIAL_BANKING_ACCOUNTS      int64\n",
      "PERSONAL_ASSETS_VALUE             float64\n",
      "QUANT_CARS                          int64\n",
      "COMPANY                            object\n",
      "PROFESSIONAL_STATE                 object\n",
      "FLAG_PROFESSIONAL_PHONE            object\n",
      "MONTHS_IN_THE_JOB                   int64\n",
      "PROFESSION_CODE                   float64\n",
      "OCCUPATION_TYPE                   float64\n",
      "FLAG_HOME_ADDRESS_DOCUMENT          int64\n",
      "FLAG_RG                             int64\n",
      "FLAG_CPF                            int64\n",
      "FLAG_INCOME_PROOF                   int64\n",
      "PRODUCT                             int64\n",
      "FLAG_ACSP_RECORD                   object\n",
      "AGE                                 int64\n",
      "RESIDENCIAL_ZIP_3                  object\n",
      "PROFESSIONAL_ZIP_3                float64\n",
      "SEX_F                             float64\n",
      "SEX_M                             float64\n",
      "SEX_N                             float64\n",
      "MARITAL_STATUS_1                  float64\n",
      "MARITAL_STATUS_2                  float64\n",
      "MARITAL_STATUS_3                  float64\n",
      "MARITAL_STATUS_4                  float64\n",
      "MARITAL_STATUS_5                  float64\n",
      "MARITAL_STATUS_6                  float64\n",
      "MARITAL_STATUS_7                  float64\n",
      "dtype: object\n"
     ]
    }
   ],
   "source": [
    "print(\"Data types in X_train:\")\n",
    "print(X_train.dtypes)"
   ]
  },
  {
   "cell_type": "code",
   "execution_count": 26,
   "id": "bcf10f2d",
   "metadata": {},
   "outputs": [
    {
     "name": "stdout",
     "output_type": "stream",
     "text": [
      "Missing values in y_train: 0\n",
      "Missing values in y_test: 0\n"
     ]
    }
   ],
   "source": [
    "# Check for missing values in y_train and y_test\n",
    "missing_y_train = y_train.isnull().sum()\n",
    "missing_y_test = y_test.isnull().sum()\n",
    "print(\"Missing values in y_train:\", missing_y_train)\n",
    "print(\"Missing values in y_test:\", missing_y_test)\n"
   ]
  },
  {
   "cell_type": "code",
   "execution_count": 27,
   "id": "03587644",
   "metadata": {},
   "outputs": [
    {
     "name": "stdout",
     "output_type": "stream",
     "text": [
      "Distribution in y_train:\n",
      "0    0.739514\n",
      "1    0.260486\n",
      "Name: TARGET_LABEL_BAD.1, dtype: float64\n",
      "Distribution in y_test:\n",
      "0    0.7384\n",
      "1    0.2616\n",
      "Name: TARGET_LABEL_BAD.1, dtype: float64\n"
     ]
    }
   ],
   "source": [
    "# Check the distribution of target classes\n",
    "print(\"Distribution in y_train:\")\n",
    "print(y_train.value_counts(normalize=True))  # Displays the percentage of each class\n",
    "\n",
    "print(\"Distribution in y_test:\")\n",
    "print(y_test.value_counts(normalize=True))  # Displays the percentage of each class\n"
   ]
  },
  {
   "cell_type": "code",
   "execution_count": 28,
   "id": "0f2b31a6",
   "metadata": {},
   "outputs": [
    {
     "name": "stdout",
     "output_type": "stream",
     "text": [
      "Data type of y_train: int64\n",
      "Data type of y_test: int64\n"
     ]
    }
   ],
   "source": [
    "# Check data type of y_train and y_test\n",
    "print(\"Data type of y_train:\", y_train.dtype)\n",
    "print(\"Data type of y_test:\", y_test.dtype)\n"
   ]
  },
  {
   "cell_type": "code",
   "execution_count": 29,
   "id": "72780348",
   "metadata": {},
   "outputs": [
    {
     "name": "stdout",
     "output_type": "stream",
     "text": [
      "Number of instances in X_train: 35000\n",
      "Number of instances in y_train: 35000\n",
      "Number of instances in X_test: 15000\n",
      "Number of instances in y_test: 15000\n"
     ]
    }
   ],
   "source": [
    "# Check lengths of datasets to ensure consistency\n",
    "print(\"Number of instances in X_train:\", X_train.shape[0])\n",
    "print(\"Number of instances in y_train:\", y_train.shape[0])\n",
    "print(\"Number of instances in X_test:\", X_test.shape[0])\n",
    "print(\"Number of instances in y_test:\", y_test.shape[0])\n"
   ]
  },
  {
   "cell_type": "code",
   "execution_count": 30,
   "id": "c268e507",
   "metadata": {},
   "outputs": [],
   "source": [
    "# Impute missing values in 'PROFESSIONAL_ZIP_3' using median from the training data\n",
    "median_value = X_train['PROFESSIONAL_ZIP_3'].median()\n",
    "X_test['PROFESSIONAL_ZIP_3'].fillna(median_value, inplace=True)\n"
   ]
  },
  {
   "cell_type": "code",
   "execution_count": 31,
   "id": "00a5a4a0",
   "metadata": {},
   "outputs": [
    {
     "name": "stdout",
     "output_type": "stream",
     "text": [
      "Missing values in X_train:\n",
      "Series([], dtype: int64)\n",
      "Missing values in X_test:\n",
      "Series([], dtype: int64)\n"
     ]
    }
   ],
   "source": [
    "# Check for any missing values in the training set\n",
    "missing_values_train = X_train.isnull().sum()\n",
    "print(\"Missing values in X_train:\")\n",
    "print(missing_values_train[missing_values_train > 0])  # Display columns with missing values only\n",
    "\n",
    "# Check for any missing values in the test set\n",
    "missing_values_test = X_test.isnull().sum()\n",
    "print(\"Missing values in X_test:\")\n",
    "print(missing_values_test[missing_values_test > 0])  # Display columns with missing values only"
   ]
  },
  {
   "cell_type": "code",
   "execution_count": 32,
   "id": "609b4637",
   "metadata": {},
   "outputs": [
    {
     "name": "stdout",
     "output_type": "stream",
     "text": [
      "Missing values in X_train: 0\n",
      "Missing values in X_test: 0\n"
     ]
    }
   ],
   "source": [
    "# Verify no missing values are left in both training and test datasets\n",
    "print(\"Missing values in X_train:\", X_train.isnull().sum().sum())\n",
    "print(\"Missing values in X_test:\", X_test.isnull().sum().sum())\n"
   ]
  },
  {
   "cell_type": "code",
   "execution_count": 33,
   "id": "a0d47059",
   "metadata": {},
   "outputs": [],
   "source": [
    "from sklearn.preprocessing import OneHotEncoder\n",
    "from sklearn.compose import ColumnTransformer\n",
    "\n",
    "# Define the categorical columns you want to one-hot encode\n",
    "categorical_features = ['CLERK_TYPE', 'APPLICATION_SUBMISSION_TYPE', 'STATE_OF_BIRTH', 'CITY_OF_BIRTH', 'RESIDENCIAL_STATE', \n",
    "                        'RESIDENCIAL_BOROUGH', 'FLAG_RESIDENCIAL_PHONE', 'FLAG_MOBILE_PHONE', 'COMPANY', 'PROFESSIONAL_STATE',\n",
    "                        'FLAG_PROFESSIONAL_PHONE', 'PRODUCT', 'FLAG_ACSP_RECORD', 'RESIDENCIAL_ZIP_3']\n",
    "\n",
    "# Create the encoder\n",
    "column_transformer = ColumnTransformer(\n",
    "    transformers=[\n",
    "        ('cat', OneHotEncoder(handle_unknown='ignore'), categorical_features)\n",
    "    ], remainder='passthrough')\n",
    "\n",
    "# Apply the transformer to the training data\n",
    "X_train_transformed = column_transformer.fit_transform(X_train)\n",
    "X_test_transformed = column_transformer.transform(X_test)\n",
    "\n",
    "# Note: This will change X_train and X_test from a DataFrame to a numpy array\n"
   ]
  },
  {
   "cell_type": "code",
   "execution_count": 34,
   "id": "fdee7558",
   "metadata": {},
   "outputs": [
    {
     "name": "stdout",
     "output_type": "stream",
     "text": [
      "Sample data from X_train_transformed:\n",
      "   (0, 0)\t1.0\n",
      "  (0, 3)\t1.0\n",
      "  (0, 24)\t1.0\n",
      "  (0, 7774)\t1.0\n",
      "  (0, 8149)\t1.0\n",
      "  (0, 9429)\t1.0\n",
      "  (0, 19696)\t1.0\n",
      "  (0, 19697)\t1.0\n",
      "  (0, 19699)\t1.0\n",
      "  (0, 19720)\t1.0\n",
      "  (0, 19729)\t1.0\n",
      "  (0, 19730)\t1.0\n",
      "  (0, 19733)\t1.0\n",
      "  (0, 20138)\t1.0\n",
      "  (0, 20507)\t38095.0\n",
      "  (0, 20508)\t25.0\n",
      "  (0, 20510)\t1.0\n",
      "  (0, 20512)\t1.0\n",
      "  (0, 20513)\t0.29446107077316536\n",
      "  (0, 20514)\t105.0\n",
      "  (0, 20515)\t1.0\n",
      "  (0, 20516)\t1.0\n",
      "  (0, 20517)\t1.0\n",
      "  (0, 20518)\t355.0\n",
      "  (0, 20530)\t9.0\n",
      "  :\t:\n",
      "  (4, 19697)\t1.0\n",
      "  (4, 19699)\t1.0\n",
      "  (4, 19700)\t1.0\n",
      "  (4, 19728)\t1.0\n",
      "  (4, 19730)\t1.0\n",
      "  (4, 19733)\t1.0\n",
      "  (4, 20459)\t1.0\n",
      "  (4, 20507)\t41709.0\n",
      "  (4, 20508)\t10.0\n",
      "  (4, 20510)\t1.0\n",
      "  (4, 20511)\t3.0\n",
      "  (4, 20513)\t0.2265943154066442\n",
      "  (4, 20514)\t61.0\n",
      "  (4, 20515)\t1.0\n",
      "  (4, 20517)\t1.0\n",
      "  (4, 20518)\t776.0\n",
      "  (4, 20525)\t1.0\n",
      "  (4, 20526)\t1.0\n",
      "  (4, 20528)\t1.0\n",
      "  (4, 20530)\t9.0\n",
      "  (4, 20531)\t2.0\n",
      "  (4, 20536)\t41.0\n",
      "  (4, 20537)\t0.00017142857142857143\n",
      "  (4, 20538)\t1.0\n",
      "  (4, 20542)\t1.0\n"
     ]
    }
   ],
   "source": [
    "# Check the first few rows of the transformed data to understand its structure\n",
    "print(\"Sample data from X_train_transformed:\\n\", X_train_transformed[:5])\n"
   ]
  },
  {
   "cell_type": "code",
   "execution_count": 35,
   "id": "5b8c14e7",
   "metadata": {},
   "outputs": [
    {
     "name": "stdout",
     "output_type": "stream",
     "text": [
      "Columns in X_train: ['ID_CLIENT', 'CLERK_TYPE', 'PAYMENT_DAY', 'APPLICATION_SUBMISSION_TYPE', 'QUANT_ADDITIONAL_CARDS', 'POSTAL_ADDRESS_TYPE', 'QUANT_DEPENDANTS', 'STATE_OF_BIRTH', 'CITY_OF_BIRTH', 'NATIONALITY', 'RESIDENCIAL_STATE', 'RESIDENCIAL_CITY', 'RESIDENCIAL_BOROUGH', 'FLAG_RESIDENCIAL_PHONE', 'RESIDENCIAL_PHONE_AREA_CODE', 'RESIDENCE_TYPE', 'MONTHS_IN_RESIDENCE', 'FLAG_MOBILE_PHONE', 'FLAG_EMAIL', 'PERSONAL_MONTHLY_INCOME', 'OTHER_INCOMES', 'FLAG_VISA', 'FLAG_MASTERCARD', 'FLAG_DINERS', 'FLAG_AMERICAN_EXPRESS', 'FLAG_OTHER_CARDS', 'QUANT_BANKING_ACCOUNTS', 'QUANT_SPECIAL_BANKING_ACCOUNTS', 'PERSONAL_ASSETS_VALUE', 'QUANT_CARS', 'COMPANY', 'PROFESSIONAL_STATE', 'FLAG_PROFESSIONAL_PHONE', 'MONTHS_IN_THE_JOB', 'PROFESSION_CODE', 'OCCUPATION_TYPE', 'FLAG_HOME_ADDRESS_DOCUMENT', 'FLAG_RG', 'FLAG_CPF', 'FLAG_INCOME_PROOF', 'PRODUCT', 'FLAG_ACSP_RECORD', 'AGE', 'RESIDENCIAL_ZIP_3', 'PROFESSIONAL_ZIP_3', 'SEX_F', 'SEX_M', 'SEX_N', 'MARITAL_STATUS_1', 'MARITAL_STATUS_2', 'MARITAL_STATUS_3', 'MARITAL_STATUS_4', 'MARITAL_STATUS_5', 'MARITAL_STATUS_6', 'MARITAL_STATUS_7']\n"
     ]
    }
   ],
   "source": [
    "print(\"Columns in X_train:\", X_train.columns.tolist())"
   ]
  },
  {
   "cell_type": "code",
   "execution_count": 36,
   "id": "c33ed4ce",
   "metadata": {},
   "outputs": [],
   "source": [
    "from sklearn.compose import ColumnTransformer\n",
    "from sklearn.preprocessing import OneHotEncoder\n",
    "\n",
    "# Ensure these are exactly the column names as they appear in X_train\n",
    "categorical_features = ['CLERK_TYPE', 'APPLICATION_SUBMISSION_TYPE', 'STATE_OF_BIRTH', 'CITY_OF_BIRTH', 'RESIDENCIAL_STATE', \n",
    "                        'RESIDENCIAL_BOROUGH', 'FLAG_RESIDENCIAL_PHONE', 'FLAG_MOBILE_PHONE', 'COMPANY', 'PROFESSIONAL_STATE',\n",
    "                        'FLAG_PROFESSIONAL_PHONE', 'PRODUCT', 'FLAG_ACSP_RECORD', 'RESIDENCIAL_ZIP_3']\n",
    "\n",
    "column_transformer = ColumnTransformer(\n",
    "    transformers=[\n",
    "        ('cat', OneHotEncoder(handle_unknown='ignore'), categorical_features)\n",
    "    ],\n",
    "    remainder='passthrough'\n",
    ")\n",
    "\n",
    "# Apply the transformer to your training data\n",
    "X_train_transformed = column_transformer.fit_transform(X_train)\n",
    "X_test_transformed = column_transformer.transform(X_test)\n"
   ]
  },
  {
   "cell_type": "code",
   "execution_count": 37,
   "id": "39ff4cf0",
   "metadata": {},
   "outputs": [],
   "source": [
    "# Getting new feature names from the transformer for categorical features\n",
    "transformed_cat_features = column_transformer.named_transformers_['cat'].get_feature_names_out()\n",
    "\n",
    "# Combine with non-categorical feature names\n",
    "new_feature_names = list(transformed_cat_features) + [name for name in X_train.columns if name not in categorical_features]\n"
   ]
  },
  {
   "cell_type": "code",
   "execution_count": 38,
   "id": "16e1aeab",
   "metadata": {},
   "outputs": [],
   "source": [
    "# Convert the transformed data to dense format if necessary\n",
    "X_train_dense = X_train_transformed.toarray() if hasattr(X_train_transformed, \"toarray\") else X_train_transformed\n",
    "X_test_dense = X_test_transformed.toarray() if hasattr(X_test_transformed, \"toarray\") else X_test_transformed\n",
    "\n",
    "# Create DataFrames\n",
    "X_train = pd.DataFrame(X_train_dense, columns=new_feature_names, index=X_train.index)\n",
    "X_test = pd.DataFrame(X_test_dense, columns=new_feature_names, index=X_test.index)\n"
   ]
  },
  {
   "cell_type": "code",
   "execution_count": 39,
   "id": "b3ec2e6d",
   "metadata": {},
   "outputs": [],
   "source": [
    "### MODELLINGGGGGGGGGGGGG #####"
   ]
  },
  {
   "cell_type": "code",
   "execution_count": 40,
   "id": "3febe79a",
   "metadata": {},
   "outputs": [
    {
     "name": "stdout",
     "output_type": "stream",
     "text": [
      "Accuracy: 0.7384\n",
      "Classification Report:\n",
      "               precision    recall  f1-score   support\n",
      "\n",
      "           0       0.74      1.00      0.85     11076\n",
      "           1       0.50      0.00      0.00      3924\n",
      "\n",
      "    accuracy                           0.74     15000\n",
      "   macro avg       0.62      0.50      0.43     15000\n",
      "weighted avg       0.68      0.74      0.63     15000\n",
      "\n"
     ]
    }
   ],
   "source": [
    "from sklearn.linear_model import LogisticRegression\n",
    "from sklearn.metrics import accuracy_score, classification_report\n",
    "\n",
    "# Initialize and train the Logistic Regression model\n",
    "log_model = LogisticRegression(max_iter=1000)\n",
    "log_model.fit(X_train, y_train)\n",
    "\n",
    "# Predict on the test data\n",
    "y_pred_log = log_model.predict(X_test)\n",
    "\n",
    "# Evaluate the model\n",
    "print(\"Accuracy:\", accuracy_score(y_test, y_pred_log))\n",
    "print(\"Classification Report:\\n\", classification_report(y_test, y_pred_log))\n"
   ]
  },
  {
   "cell_type": "code",
   "execution_count": 41,
   "id": "8cf90a38",
   "metadata": {},
   "outputs": [
    {
     "name": "stdout",
     "output_type": "stream",
     "text": [
      "Adjusted Logistic Regression Accuracy: 0.5741333333333334\n",
      "Adjusted Classification Report:\n",
      "               precision    recall  f1-score   support\n",
      "\n",
      "           0       0.76      0.61      0.68     11076\n",
      "           1       0.30      0.46      0.36      3924\n",
      "\n",
      "    accuracy                           0.57     15000\n",
      "   macro avg       0.53      0.54      0.52     15000\n",
      "weighted avg       0.64      0.57      0.60     15000\n",
      "\n"
     ]
    }
   ],
   "source": [
    "from sklearn.linear_model import LogisticRegression\n",
    "from sklearn.metrics import classification_report, accuracy_score\n",
    "\n",
    "# Initialize the logistic regression model with class weight adjusted\n",
    "log_model = LogisticRegression(max_iter=1000, class_weight='balanced', solver='lbfgs', random_state=42)\n",
    "\n",
    "# Train the model\n",
    "log_model.fit(X_train, y_train)\n",
    "\n",
    "# Predict on the test set\n",
    "y_pred_log = log_model.predict(X_test)\n",
    "\n",
    "# Evaluate the model\n",
    "print(\"Adjusted Logistic Regression Accuracy:\", accuracy_score(y_test, y_pred_log))\n",
    "print(\"Adjusted Classification Report:\\n\", classification_report(y_test, y_pred_log))\n"
   ]
  },
  {
   "cell_type": "code",
   "execution_count": null,
   "id": "77a27e29",
   "metadata": {},
   "outputs": [],
   "source": [
    "from sklearn.ensemble import RandomForestClassifier\n",
    "from sklearn.metrics import accuracy_score, classification_report, confusion_matrix\n",
    "\n",
    "# Initialize the Random Forest classifier\n",
    "rf_model = RandomForestClassifier(n_estimators=100, random_state=42, class_weight='balanced')\n",
    "\n",
    "# Fit the model on the training data\n",
    "rf_model.fit(X_train, y_train)\n",
    "\n",
    "# Make predictions on the test data\n",
    "y_pred_rf = rf_model.predict(X_test)\n",
    "\n",
    "# Evaluate the model\n",
    "accuracy_rf = accuracy_score(y_test, y_pred_rf)\n",
    "report_rf = classification_report(y_test, y_pred_rf)\n",
    "conf_matrix_rf = confusion_matrix(y_test, y_pred_rf)\n",
    "\n",
    "print(\"Random Forest Accuracy:\", accuracy_rf)\n",
    "print(\"Random Forest Classification Report:\\n\", report_rf)\n",
    "print(\"Random Forest Confusion Matrix:\\n\", conf_matrix_rf)\n"
   ]
  },
  {
   "cell_type": "code",
   "execution_count": null,
   "id": "4bda1e7c",
   "metadata": {},
   "outputs": [],
   "source": []
  },
  {
   "cell_type": "code",
   "execution_count": null,
   "id": "f795eded",
   "metadata": {},
   "outputs": [],
   "source": []
  },
  {
   "cell_type": "code",
   "execution_count": null,
   "id": "a20f7dcc",
   "metadata": {},
   "outputs": [],
   "source": []
  }
 ],
 "metadata": {
  "kernelspec": {
   "display_name": "Python 3 (ipykernel)",
   "language": "python",
   "name": "python3"
  },
  "language_info": {
   "codemirror_mode": {
    "name": "ipython",
    "version": 3
   },
   "file_extension": ".py",
   "mimetype": "text/x-python",
   "name": "python",
   "nbconvert_exporter": "python",
   "pygments_lexer": "ipython3",
   "version": "3.11.9"
  }
 },
 "nbformat": 4,
 "nbformat_minor": 5
}
